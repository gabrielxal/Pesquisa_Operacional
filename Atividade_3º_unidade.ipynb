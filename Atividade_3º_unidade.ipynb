{
  "nbformat": 4,
  "nbformat_minor": 0,
  "metadata": {
    "colab": {
      "provenance": []
    },
    "kernelspec": {
      "name": "python3",
      "display_name": "Python 3"
    },
    "language_info": {
      "name": "python"
    }
  },
  "cells": [
    {
      "cell_type": "code",
      "execution_count": 1,
      "metadata": {
        "colab": {
          "base_uri": "https://localhost:8080/",
          "height": 0
        },
        "id": "-h1Lzk0lWarn",
        "outputId": "d42e3565-39dc-4ff9-f077-e7cb5168d7fd"
      },
      "outputs": [
        {
          "output_type": "stream",
          "name": "stdout",
          "text": [
            "\u001b[2K   \u001b[90m━━━━━━━━━━━━━━━━━━━━━━━━━━━━━━━━━━━━━━━━\u001b[0m \u001b[32m17.7/17.7 MB\u001b[0m \u001b[31m34.1 MB/s\u001b[0m eta \u001b[36m0:00:00\u001b[0m\n",
            "\u001b[?25h"
          ]
        }
      ],
      "source": [
        "# Instalação da Biblioteca\n",
        "!pip install pulp -q"
      ]
    },
    {
      "cell_type": "code",
      "source": [
        "# Importação da Biblioteca\n",
        "from pulp import *"
      ],
      "metadata": {
        "id": "UMkqKgmsWmf_"
      },
      "execution_count": 2,
      "outputs": []
    },
    {
      "cell_type": "markdown",
      "source": [
        "# 4º)\n",
        "Um construtor de casas pré-fabricadas decidiu subcontratar quatro componentes das residências. Diversas empresas estão interessadas em participar do negócio, mas nenhuma pode aceitar mais do que um subcontrato. As cotações feitas pelas empresas para os diversos subcontratos são apresentadas na tabela a seguir. Assumindo que todas as empresas podem executar cada subcontrato igualmente bem, para que empresa cada subcontrato deve ser atribuído se o construtor de casas pré-fabricadas quiser minimizar as subcontratadas?\n",
        "\n",
        "# Cotações por empresas (em R$ 1.000) para diversos subcontratos\n",
        "| Componente | Empresa A | Empresa B | Empresa C | Empresa D |\n",
        "|------------|-----------|-----------|-----------|-----------|\n",
        "| 1          | 185       | 225       | 193       | 207       |\n",
        "| 2          | 200       | 190       | 175       | 225       |\n",
        "| 3          | 330       | 320       | 315       | 300       |\n",
        "| 4          | 375       | 389       | 425       | 445       |\n",
        "\n",
        "---"
      ],
      "metadata": {
        "id": "bcNRPY3Aba9J"
      }
    },
    {
      "cell_type": "code",
      "source": [
        "# Criação do problema e modelagem\n",
        "\n",
        "prob = LpProblem(\"Minimizar_subcontratações\", LpMinimize)\n",
        "\n",
        "# Variáveis de decisão binárias\n",
        "x = {\n",
        "    (i, j): LpVariable(f\"x_{i}_{j}\", 0, 1, cat=\"Binary\")\n",
        "     for i in range(1, 5) for j in ['A', 'B', 'C', 'D']\n",
        "    }\n",
        "\n",
        "# Custos de atribuição (extraídos da tabela)\n",
        "custos = {\n",
        "    (1, 'A'): 185, (1, 'B'): 225, (1, 'C'): 193, (1, 'D'): 207,\n",
        "    (2, 'A'): 200, (2, 'B'): 190, (2, 'C'): 175, (2, 'D'): 225,\n",
        "    (3, 'A'): 330, (3, 'B'): 320, (3, 'C'): 315, (3, 'D'): 300,\n",
        "    (4, 'A'): 375, (4, 'B'): 389, (4, 'C'): 425, (4, 'D'): 445\n",
        "}\n",
        "\n",
        "# Função objetivo\n",
        "prob += lpSum(custos[(i, j)] * x[(i, j)] for i in range(1, 5) for j in ['A', 'B', 'C', 'D'])\n",
        "\n",
        "# Restrições: Cada componente é atribuído a uma empresa\n",
        "for i in range(1, 5):\n",
        "    prob += lpSum(x[(i, j)] for j in ['A', 'B', 'C', 'D']) == 1\n",
        "\n",
        "# Restrições: Cada empresa é atribuída no máximo a um componente\n",
        "for j in ['A', 'B', 'C', 'D']:\n",
        "    prob += lpSum(x[(i, j)] for i in range(1, 5)) <= 1\n",
        "\n",
        "# Resolver o problema\n",
        "prob.solve()\n",
        "\n",
        "# Visualizar a melhor solução\n",
        "print(\"Solução ótima  e custos individuais:\")\n",
        "total = 0\n",
        "somatorio = []\n",
        "for i in range(1, 5):\n",
        "    for j in ['A', 'B', 'C', 'D']:\n",
        "        if x[(i, j)].varValue == 1:\n",
        "            custo = custos[(i, j)]\n",
        "            total += custo\n",
        "            somatorio.append(custo)\n",
        "            print(f\"Componente {i} -> Empresa {j} | Custo: R$ {custo} mil\")\n",
        "\n",
        "# Mostrar o somatório do custo total\n",
        "somatorio_str = \" + \".join(f\"{c}\" for c in somatorio)\n",
        "print(f\"\\nCusto total mínimo: {somatorio_str} = R$ {total:.2f} mil\")"
      ],
      "metadata": {
        "colab": {
          "base_uri": "https://localhost:8080/",
          "height": 0
        },
        "id": "IvxjBsLqWotd",
        "outputId": "6850b477-e820-4d03-8123-fd3a256d85b5"
      },
      "execution_count": 5,
      "outputs": [
        {
          "output_type": "stream",
          "name": "stdout",
          "text": [
            "Solução ótima  e custos individuais:\n",
            "Componente 1 -> Empresa A | Custo: R$ 185 mil\n",
            "Componente 2 -> Empresa C | Custo: R$ 175 mil\n",
            "Componente 3 -> Empresa D | Custo: R$ 300 mil\n",
            "Componente 4 -> Empresa B | Custo: R$ 389 mil\n",
            "\n",
            "Custo total mínimo: 185 + 175 + 300 + 389 = R$ 1049.00 mil\n"
          ]
        }
      ]
    },
    {
      "cell_type": "markdown",
      "source": [
        "Os resultados obtidos apresentam uma solução ótima com custo total mínimo de R$ 1.049.000,00. Cada componente foi atribuído à empresa correspondente de maneira a minimizar os custos, com a seguinte distribuição: o Componente 1 foi alocado à Empresa A, o Componente 2 à Empresa C, o Componente 3 à Empresa D, e o Componente 4 à Empresa B. Essa alocação reflete o equilíbrio entre os custos de produção e os critérios do problema, garantindo que os recursos sejam utilizados de forma eficiente."
      ],
      "metadata": {
        "id": "CDdAFlQ2qPkF"
      }
    },
    {
      "cell_type": "markdown",
      "source": [
        "# 5º)\n",
        "Considere o plano logístico para quatro instalações atenderem sete cidades do Nordeste, onde são fornecidos os custos de transporte, as quantidades transportadas e o relatório da análise. Deve-se salientar que pelo menos **80% dos destinos devem ter suas respectivas demandas atendidas**.\n",
        "\n",
        "---\n",
        "\n",
        "## Dados do Problema\n",
        "\n",
        "### Custo Unitário de Transporte por Distribuidor (em R$)\n",
        "| **Instalação / Cidade** | **Barcelona** | **João Pessoa** | **Natal** | **Fortaleza** | **Quixadá** | **Parelhas** | **Mossoró** | **Capacidade** | **Custo Produção** |\n",
        "|--------------------------|---------------|------------------|-----------|---------------|-------------|--------------|-------------|----------------|--------------------|\n",
        "| **Caicó**               | 2,50          | 2,75             | 1,75      | 2,00          | 2,10        | 1,80         | 1,65        | 18.000         | 35,50             |\n",
        "| **Currais Novos**        | 1,85          | 1,90             | 1,50      | 1,60          | 1,00        | 1,90         | 1,85        | 15.000         | 37,50             |\n",
        "| **Tabuleiro do Norte**   | 2,30          | 2,25             | 1,85      | 1,25          | 1,50        | 2,25         | 2,00        | 25.000         | 39,00             |\n",
        "| **Angicos**              | 1,90          | 0,90             | 1,60      | 1,75          | 2,00        | 2,50         | 2,65        | 20.000         | 36,25             |         |\n",
        "\n",
        "### Demandas por Cidade\n",
        "| **Cidade**       | **Demanda** |\n",
        "|-------------------|-------------|\n",
        "| **Barcelona**    | 8.500       |\n",
        "| **João Pessoa**  | 14.500      |\n",
        "| **Natal**        | 13.500      |\n",
        "| **Fortaleza**    | 12.600      |\n",
        "| **Quixadá**      | 18.000      |\n",
        "| **Parelhas**     | 15.000      |\n",
        "| **Mossoró**      | 9.000       |\n",
        "\n",
        "---\n"
      ],
      "metadata": {
        "id": "qcDoN7kdc52j"
      }
    },
    {
      "cell_type": "code",
      "source": [
        "\n",
        "# Informações do problema\n",
        "instalacoes = [\"Caicó\", \"Currais Novos\", \"Tabuleiro do Norte\", \"Angicos\"]\n",
        "cidades = [\"Barcelona\", \"João Pessoa\", \"Natal\", \"Fortaleza\", \"Quixadá\", \"Parelhas\", \"Mossoró\"]\n",
        "\n",
        "custos_transporte = {\n",
        "    \"Caicó\": [2.50, 2.75, 1.75, 2.00, 2.10, 1.80, 1.65],\n",
        "    \"Currais Novos\": [1.85, 1.90, 1.50, 1.60, 1.00, 1.90, 1.85],\n",
        "    \"Tabuleiro do Norte\": [2.30, 2.25, 1.85, 1.25, 1.50, 2.25, 2.00],\n",
        "    \"Angicos\": [1.90, 0.90, 1.60, 1.75, 2.00, 2.50, 2.65]\n",
        "}\n",
        "\n",
        "custos_producao = {\"Caicó\": 35.50, \"Currais Novos\": 37.50, \"Tabuleiro do Norte\": 39.00, \"Angicos\": 36.25}\n",
        "capacidades = {\"Caicó\": 18000, \"Currais Novos\": 15000, \"Tabuleiro do Norte\": 25000, \"Angicos\": 20000}\n",
        "demandas = [8500, 14500, 13500, 12600, 18000, 15000, 9000]\n",
        "\n",
        "# Problema de otimização\n",
        "problema = LpProblem(\"Plano_Logistico\", LpMinimize)\n",
        "\n",
        "# Variáveis de decisão\n",
        "x = LpVariable.dicts(\"X\", [(i, j) for i in instalacoes for j in cidades], lowBound=0, cat=\"Continuous\")\n",
        "y = LpVariable.dicts(\"Y\", instalacoes, lowBound=0, cat=\"Continuous\")\n",
        "\n",
        "# Função objetivo: custo total (transporte + produção)\n",
        "problema += (\n",
        "    lpSum(custos_transporte[i][cidades.index(j)] * x[(i, j)] for i in instalacoes for j in cidades) +\n",
        "    lpSum(custos_producao[i] * y[i] for i in instalacoes)\n",
        ")\n",
        "\n",
        "# Restrições de capacidade das instalações\n",
        "for i in instalacoes:\n",
        "    problema += lpSum(x[(i, j)] for j in cidades) <= capacidades[i], f\"Capacidade_{i}\"\n",
        "\n",
        "# Restrições de demanda mínima por cidade (80% das demandas)\n",
        "for j in range(len(cidades)):\n",
        "    problema += lpSum(x[(i, cidades[j])] for i in instalacoes) >= 0.8 * demandas[j], f\"Demanda_{cidades[j]}\"\n",
        "\n",
        "# Relacionar produção total por instalação\n",
        "for i in instalacoes:\n",
        "    problema += lpSum(x[(i, j)] for j in cidades) == y[i], f\"Producao_{i}\"\n",
        "\n",
        "# Solução\n",
        "problema.solve()\n",
        "\n",
        "# Exibir os resultados\n",
        "print(\"Solução Ótima\")\n",
        "print(f\"Custo Total: R$ {value(problema.objective):,.2f}\\n\")\n",
        "\n",
        "print(\"Quantidades transportadas:\")\n",
        "for i in instalacoes:\n",
        "    for j in cidades:\n",
        "        if x[(i, j)].varValue > 0:\n",
        "            print(f\"De {i} para {j}: {x[(i, j)].varValue:.2f} unidades\")\n",
        "\n",
        "print(\"\\nProdução total por instalação:\")\n",
        "for i in instalacoes:\n",
        "    total_producao = sum(x[(i, j)].varValue for j in cidades)\n",
        "    print(f\"{i}: {total_producao:.2f} unidades\")\n"
      ],
      "metadata": {
        "colab": {
          "base_uri": "https://localhost:8080/",
          "height": 0
        },
        "id": "vvWmqwNtdj-P",
        "outputId": "64e6a6d9-e301-410a-9ceb-1d3aeeef3d14"
      },
      "execution_count": 15,
      "outputs": [
        {
          "output_type": "stream",
          "name": "stdout",
          "text": [
            "Solução Ótima\n",
            "Custo Total: R$ 2,805,450.00\n",
            "\n",
            "Quantidades transportadas:\n",
            "De Caicó para Parelhas: 12000.00 unidades\n",
            "De Caicó para Mossoró: 6000.00 unidades\n",
            "De Currais Novos para Natal: 600.00 unidades\n",
            "De Currais Novos para Quixadá: 14400.00 unidades\n",
            "De Tabuleiro do Norte para Natal: 8600.00 unidades\n",
            "De Tabuleiro do Norte para Fortaleza: 10080.00 unidades\n",
            "De Tabuleiro do Norte para Mossoró: 1200.00 unidades\n",
            "De Angicos para Barcelona: 6800.00 unidades\n",
            "De Angicos para João Pessoa: 11600.00 unidades\n",
            "De Angicos para Natal: 1600.00 unidades\n",
            "\n",
            "Produção total por instalação:\n",
            "Caicó: 18000.00 unidades\n",
            "Currais Novos: 15000.00 unidades\n",
            "Tabuleiro do Norte: 19880.00 unidades\n",
            "Angicos: 20000.00 unidades\n"
          ]
        }
      ]
    },
    {
      "cell_type": "markdown",
      "source": [
        "Os resultados obtidos demonstram uma solução logística eficiente que respeita todas as restrições do problema, garantindo a minimização dos custos totais de transporte e produção, estimados em R$ 2.805.450,00. Todas as demandas mínimas de 80% por cidade foram atendidas, evidenciando a adequação do modelo em distribuir os produtos de forma estratégica. As capacidades máximas das instalações também foram respeitadas, com destaque para Caicó, Currais Novos, Tabuleiro do Norte e Angicos, que operaram com produções totais dentro de seus limites, otimizando os recursos disponíveis."
      ],
      "metadata": {
        "id": "wKh38uRNputC"
      }
    }
  ]
}