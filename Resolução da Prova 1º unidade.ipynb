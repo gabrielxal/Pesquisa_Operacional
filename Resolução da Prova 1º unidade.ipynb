{
 "cells": [
  {
   "cell_type": "markdown",
   "id": "e9a14e0f-ac57-4ffe-aa82-52247b4e04bd",
   "metadata": {},
   "source": [
    "### *Resolução da Prova da 1º Unidade*"
   ]
  },
  {
   "cell_type": "code",
   "execution_count": 3,
   "id": "eb958014-449e-402b-aded-768b51c67ae2",
   "metadata": {},
   "outputs": [],
   "source": [
    "import sys\n",
    "sys.path.append(r\"C:\\Users\\Gabriel\\AppData\\Roaming\\Python\\Python311\\site-packages\")\n",
    "from pulp import LpMaximize, LpProblem, LpVariable, LpMinimize"
   ]
  },
  {
   "cell_type": "markdown",
   "id": "b845d19d-2312-43ef-9e47-ceff3bccb177",
   "metadata": {},
   "source": [
    "### 1º) A Ventos do Carvão opera uma planta de geração de energia elétrica. A eletricidade gerada pela planta é fornecida para a UFERSA, pequenos negócios e residências conveniadas em Angicos. A usina queima três tipos de carvão, no qual produzem vapor que faz com que as turbinas gerem eletricidade. O IDEMA requer que para cada tonelada de carvão queimado, as emissões a partir da fumaça contenham não mais do que 2.500 ppm de particulados de sulfetos e não mais do que 2,8 kg de pó de carvão. A tabela seguinte resume a quantidade de sulfeto, pó de carvão e vapor que resultam da queima de 1 tonelada de cada um dos tipos de carvão. Os três tipos de carvão podem ser misturados e queimados em qualquer proporção combinada. As emissões resultantes de sulfeto ou pó de carvão e o volume de vapor produzido (medido em libras) por qualquer mistura são dados como o peso médio dos valores mostrados na tabela para cada tipo de carvão. O gerente precisa determinar a mistura ideal de carvão para produzir o máximo volume de vapor por tonelada e sem violar as legislações vigentes.\n",
    "\n",
    "| Carvão | Sulfeto (ppm) | Pó de carvão (kg) | Volume de vapor produzido |\n",
    "|--------|---------------|-------------------|---------------------------|\n",
    "| 1      | 1.100         | 1,7               | 24.000                    |\n",
    "| 2      | 3.500         | 3,2               | 36.000                    |\n",
    "| 3      | 1.300         | 2,4               | 28.000                    |\n"
   ]
  },
  {
   "cell_type": "code",
   "execution_count": 5,
   "id": "007d1646-e11c-4f7e-81e8-97c0dc50d2c1",
   "metadata": {},
   "outputs": [
    {
     "name": "stdout",
     "output_type": "stream",
     "text": [
      "Solução encontrada!\n",
      "Quantidade do carvão 1: 0.06\n",
      "Quantidade do carvão 2: 0.55\n",
      "Quantidade do carvão 3: 0.39\n",
      "Volume máximo de vapor produzido: 32173.91 libras\n"
     ]
    }
   ],
   "source": [
    "problem = LpProblem(\"Maximizar_Volume\", LpMaximize)\n",
    "\n",
    "#variáveis de decisão\n",
    "c1 = LpVariable(\"Carvão 1\", lowBound=0)\n",
    "c2 = LpVariable(\"Carvão 2\", lowBound=0)\n",
    "c3 = LpVariable(\"Carvão 3\", lowBound=0)\n",
    "\n",
    "#função objetiva\n",
    "problem += 24000*c1 + 36000*c2 + 28000*c3\n",
    "\n",
    "#restrições\n",
    "problem += c1 + c2 + c3 == 1 # por tonelada\n",
    "problem += 1100*c1 + 3500*c2 + 1300*c3 <= 2500 #sulfeto\n",
    "problem += 1.7*c1 + 3.2*c2 + 2.4*c3 <= 2.8\n",
    "\n",
    "#solução\n",
    "problem.solve()\n",
    "\n",
    "#resultado\n",
    "if problem.status == 1:\n",
    "    print(\"Solução encontrada!\")\n",
    "    print(f\"Quantidade do carvão 1: {c1.varValue:.2f}\")\n",
    "    print(f\"Quantidade do carvão 2: {c2.varValue:.2f}\")\n",
    "    print(f\"Quantidade do carvão 3: {c3.varValue:.2f}\")\n",
    "    print(f\"Volume máximo de vapor produzido: {problem.objective.value():.2f} libras\")\n",
    "else:\n",
    "    print(\"Não foi possível encontrar uma solução.\")"
   ]
  },
  {
   "cell_type": "markdown",
   "id": "db838d87-9482-4e5e-97fa-41bd5d91beaf",
   "metadata": {},
   "source": [
    "### 2º) A Câmara de Vereadores da cidade Mossoró está em processo de aprovação da construção de um novo centro de convenções de 200.000 m2. Foram propostos dois locais e ambos requerem a aplicação da lei do ‘domínio eminente’ para a aquisição da propriedade. A tabela abaixo apresenta dados sobre as propriedades (contíguas) propostas em ambos os locais, acompanhados do custo de aquisição. A aquisição parcial da propriedade é permitida. No mínimo 75% da propriedade 4 deve ser adquirida se for selecionado o local 1, e no mínimo 50% da propriedade 3 deve ser adquirida se for selecionado o local 2. Embora a propriedade do local 1 seja mais cara (com base no valor por m2), o custo da construção é menor do que no local 2 porque o estado da infraestrutura no local 1 é muito melhor. O custo de construção é de R 25 milhões no local 1 e de R 27 milhões no local 2. O gerente do projeto precisa determinar o problema via programação linear.\n",
    "\n",
    "\n",
    "| Propriedade | Área (1.000 m²) - Local 1 | Custo (R 1.000) - Local 1 | Área (1.000 m²) - Local 2 | Custo (R 1.000) - Local 2 |\n",
    "|-------------|---------------------------|----------------------------|---------------------------|----------------------------|\n",
    "| 1           | 20                        | 1.000                      | 80                        | 2.800                      |\n",
    "| 2           | 50                        | 2.100                      | 60                        | 1.900                      |\n",
    "| 3           | 50                        | 2.350                      | 50                        | 2.800                      |\n",
    "| 4           | 30                        | 1.850                      | 70                        | 2.500                      |\n",
    "| 5           | 60                        | 2.950                      |                           |                            |\n",
    "\n"
   ]
  },
  {
   "cell_type": "code",
   "execution_count": 19,
   "id": "cdfd95dc-4cb4-4f31-b04c-7b0dafe7dae1",
   "metadata": {},
   "outputs": [
    {
     "name": "stdout",
     "output_type": "stream",
     "text": [
      "Solução encontrada!\n",
      "Propriedade 1 do local 1: 0.00\n",
      "Propriedade 2 do local 1: 0.00\n",
      "Propriedade 3 do local 1: 0.00\n",
      "Propriedade 4 do local 1: 0.75\n",
      "Propriedade 5 do local 1: 0.00\n",
      "Minimizar Custo: 25.00\n"
     ]
    }
   ],
   "source": [
    "# local 1\n",
    "problem = LpProblem(\"Minimizar Custo\", LpMinimize)\n",
    "\n",
    "#variáveis de decisão\n",
    "l11 = LpVariable(\"Propriedade 1 do local 1\", lowBound=0)\n",
    "l12 = LpVariable(\"Propriedade 2 do local 1\", lowBound=0)\n",
    "l13 = LpVariable(\"Propriedade 3 do local 1\", lowBound=0)\n",
    "l14 = LpVariable(\"Propriedade 4 do local 1\", lowBound=0)\n",
    "l15 = LpVariable(\"Propriedade 5 do local 1\", lowBound=0)\n",
    "                 \n",
    "#função objetiva\n",
    "problem += 25 + 0.001*l11 + 0.0021*l12 + 0.00235*l13 + 0.00185* l14 + 0.00295*l15\n",
    "\n",
    "#restrições\n",
    "problem += 20*l11 + 50*l12 + 50*l13 + 30*l14 + 60*l15 <= 200000\n",
    "problem += l14 >= 0.75\n",
    "\n",
    "#solução\n",
    "problem.solve()\n",
    "\n",
    "#resultados\n",
    "if problem.status == 1:\n",
    "    print(\"Solução encontrada!\")\n",
    "    print(f\"Propriedade 1 do local 1: {l11.varValue:.2f}\")\n",
    "    print(f\"Propriedade 2 do local 1: {l12.varValue:.2f}\")\n",
    "    print(f\"Propriedade 3 do local 1: {l13.varValue:.2f}\")\n",
    "    print(f\"Propriedade 4 do local 1: {l14.varValue:.2f}\")\n",
    "    print(f\"Propriedade 5 do local 1: {l15.varValue:.2f}\")\n",
    "    print(f\"Minimizar Custo: {problem.objective.value():.2f}\") \n",
    "else:\n",
    "    print(\"Não foi possível encontrar uma solução.\")\n",
    "    "
   ]
  },
  {
   "cell_type": "code",
   "execution_count": 20,
   "id": "75da0f78-bfb5-4062-bfca-13c2464b2816",
   "metadata": {},
   "outputs": [
    {
     "name": "stdout",
     "output_type": "stream",
     "text": [
      "Solução encontrada!\n",
      "Propriedade 1 do local 2: 0.00\n",
      "Propriedade 2 do local 2: 0.00\n",
      "Propriedade 3 do local 2: 0.00\n",
      "Propriedade 4 do local 2: 0.00\n",
      "Propriedade 5 do local 2: 0.00\n",
      "Minimizar Custo: 27.00\n"
     ]
    }
   ],
   "source": [
    "# Local 2\n",
    "problem = LpProblem(\"Minimizar Custo\", LpMinimize)\n",
    "\n",
    "#variáveis de decisão\n",
    "l21 = LpVariable(\"Propriedade 1 do local 2\", lowBound=0)\n",
    "l22 = LpVariable(\"Propriedade 2 do local 2\", lowBound=0)\n",
    "l23 = LpVariable(\"Propriedade 3 do local 2\", lowBound=0)\n",
    "l24 = LpVariable(\"Propriedade 4 do local 2\", lowBound=0)\n",
    "\n",
    "                 \n",
    "#função objetiva\n",
    "problem += 27+ 0.0028*l11 + 0.0019*l12 + 0.0028*l13 + 0.0025 * l14\n",
    "\n",
    "#restrições\n",
    "problem += 80*l21 + 60*l22 + 50*l23 + 70*l24 <= 200000\n",
    "problem += l23 >= 0.50\n",
    "\n",
    "#solução\n",
    "problem.solve()\n",
    "\n",
    "#resultados\n",
    "if problem.status == 1:\n",
    "    print(\"Solução encontrada!\")\n",
    "    print(f\"Propriedade 1 do local 2: {l11.varValue:.2f}\")\n",
    "    print(f\"Propriedade 2 do local 2: {l12.varValue:.2f}\")\n",
    "    print(f\"Propriedade 3 do local 2: {l13.varValue:.2f}\")\n",
    "    print(f\"Propriedade 4 do local 2: {l14.varValue:.2f}\")\n",
    "    print(f\"Propriedade 5 do local 2: {l15.varValue:.2f}\")\n",
    "    print(f\"Minimizar Custo: {problem.objective.value():.2f}\") \n",
    "else:\n",
    "    print(\"Não foi possível encontrar uma solução.\")"
   ]
  },
  {
   "cell_type": "code",
   "execution_count": 29,
   "id": "b44b7206-7742-47b1-a377-68b002e2ee31",
   "metadata": {},
   "outputs": [
    {
     "name": "stdout",
     "output_type": "stream",
     "text": [
      "Não foi possível encontrar uma solução viável.\n"
     ]
    }
   ],
   "source": [
    "# Outro modo de resolução\n",
    "\n",
    "problem = LpProblem(\"Minimizar Custo\", LpMinimize)\n",
    "\n",
    "# Variáveis de decisão\n",
    "x11 = LpVariable(\"Propriedade 1 do Local 1\", lowBound=0, upBound=1)  # fração adquirida\n",
    "x12 = LpVariable(\"Propriedade 1 do Local 2\", lowBound=0, upBound=1)\n",
    "x21 = LpVariable(\"Propriedade 2 do Local 1\", lowBound=0, upBound=1)\n",
    "x22 = LpVariable(\"Propriedade 2 do Local 2\", lowBound=0, upBound=1)\n",
    "x31 = LpVariable(\"Propriedade 3 do Local 1\", lowBound=0, upBound=1)\n",
    "x32 = LpVariable(\"Propriedade 3 do Local 2\", lowBound=0, upBound=1)\n",
    "x41 = LpVariable(\"Propriedade 4 do Local 1\", lowBound=0, upBound=1)\n",
    "x42 = LpVariable(\"Propriedade 4 do Local 2\", lowBound=0, upBound=1)\n",
    "x51 = LpVariable(\"Propriedade 5 do Local 1\", lowBound=0, upBound=1)\n",
    "\n",
    "# Função objetiva (minimizar custo de aquisição e construção)\n",
    "problem += (\n",
    "    1000 * x11 + 2100 * x21 + 2350 * x31 + 1850 * x41 + 2950 * x51 +  # Custo de aquisição no Local 1\n",
    "    2800 * x12 + 1900 * x22 + 2800 * x32 + 2500 * x42 +  # Custo de aquisição no Local 2\n",
    "    25000 +  # Custo de construção no Local 1\n",
    "    27000 # Custo de construção no Local 2\n",
    ")\n",
    "# Restrições\n",
    "problem += x11 + x21 + x31 + x41 + x51 >= 200  # total de 200.000 m²\n",
    "problem += x12 + x22 + x32 + x42 >= 200  # total de 200.000 m²\n",
    "\n",
    "# Restrições de aquisição mínima\n",
    "problem += x41 >= 0.75  # No Local 1, no mínimo 75% da propriedade 4\n",
    "problem += x32 >= 0.5  # No Local 2, no mínimo 50% da propriedade 3\n",
    "\n",
    "# Resolver o problema\n",
    "problem.solve()\n",
    "\n",
    "# Verificar se a solução foi encontrada\n",
    "if problem.status == 1:\n",
    "    print(\"Solução encontrada!\")\n",
    "    print(f\"Propriedade 1 do Local 1: {x11.varValue * 100:.2f}%\")\n",
    "    print(f\"Propriedade 1 do Local 2: {x12.varValue * 100:.2f}%\")\n",
    "    print(f\"Propriedade 2 do Local 1: {x21.varValue * 100:.2f}%\")\n",
    "    print(f\"Propriedade 2 do Local 2: {x22.varValue * 100:.2f}%\")\n",
    "    print(f\"Propriedade 3 do Local 1: {x31.varValue * 100:.2f}%\")\n",
    "    print(f\"Propriedade 3 do Local 2: {x32.varValue * 100:.2f}%\")\n",
    "    print(f\"Propriedade 4 do Local 1: {x41.varValue * 100:.2f}%\")\n",
    "    print(f\"Propriedade 4 do Local 2: {x42.varValue * 100:.2f}%\")\n",
    "    print(f\"Propriedade 5 do Local 1: {x51.varValue * 100:.2f}%\")\n",
    "    print(f\"Custo Total: R${problem.objective.value():,.2f}\")\n",
    "else:\n",
    "    print(\"Não foi possível encontrar uma solução viável.\")\n"
   ]
  },
  {
   "cell_type": "markdown",
   "id": "db07949c-f28c-4e23-ab99-c90b900c395b",
   "metadata": {},
   "source": [
    "### 3º) Um sapateiro faz 6 sapatos por hora, se fizer somente sapatos, e 5 cintos por hora, se fizer somente cintos. Ele gasta 2 unidades de couro para fabricar 1 unidade de sapato e 1 unidade de couro para fabricar uma unidade de cinto. Sabendo-se que o total disponível de couro é de 6 unidades e que o lucro unitário por sapato é de 5 unidades monetárias e o do cinto é de 2 unidades monetárias, pede-se: o modelo do sistema de produção do sapateiro, se o objetivo é maximizar seu lucro por hora."
   ]
  },
  {
   "cell_type": "code",
   "execution_count": 25,
   "id": "b66e1bb1-8698-45e7-a98f-c048113d359c",
   "metadata": {},
   "outputs": [
    {
     "name": "stdout",
     "output_type": "stream",
     "text": [
      "Solução encontrada!\n",
      "Quantidade de sapato: 1.50\n",
      "Quantidade de cinto: 3.00\n",
      "Maximizo de lucro (Z): 13.50\n"
     ]
    }
   ],
   "source": [
    "problem = LpProblem(\"Maximizar_Lucro\", LpMaximize)\n",
    "\n",
    "#variáveis de decisão\n",
    "s = LpVariable(\"Sapato\", lowBound=0)\n",
    "c = LpVariable(\"Cinto\", lowBound=0)\n",
    "\n",
    "#função objetiva\n",
    "problem += 5*s + 2*c\n",
    "\n",
    "#restrição\n",
    "problem += 10*s + 15*c == 60\n",
    "problem += 2*s + c <= 6\n",
    "\n",
    "#solução\n",
    "problem.solve()\n",
    "\n",
    "#resultado\n",
    "\n",
    "if problem.status == 1:\n",
    "    print(\"Solução encontrada!\")\n",
    "    print(f\"Quantidade de sapato: {s.varValue:.2f}\")\n",
    "    print(f\"Quantidade de cinto: {c.varValue:.2f}\")\n",
    "    print(f\"Maximizo de lucro (Z): {problem.objective.value():.2f}\")\n",
    "else:\n",
    "    print(\"Não foi possível encontrar uma solução.\")"
   ]
  }
 ],
 "metadata": {
  "kernelspec": {
   "display_name": "Python 3 (ipykernel)",
   "language": "python",
   "name": "python3"
  },
  "language_info": {
   "codemirror_mode": {
    "name": "ipython",
    "version": 3
   },
   "file_extension": ".py",
   "mimetype": "text/x-python",
   "name": "python",
   "nbconvert_exporter": "python",
   "pygments_lexer": "ipython3",
   "version": "3.11.7"
  }
 },
 "nbformat": 4,
 "nbformat_minor": 5
}
