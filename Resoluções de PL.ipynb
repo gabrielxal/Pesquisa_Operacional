{
 "cells": [
  {
   "cell_type": "markdown",
   "id": "b5d0727e-4327-4305-a4fb-58a5c978099e",
   "metadata": {},
   "source": [
    "### **Esté código tem o objetivo de resolver as questões proposta pela disciplina de Pesquisa Operacional**\n"
   ]
  },
  {
   "cell_type": "code",
   "execution_count": 17,
   "id": "d70ec316-ab54-41bf-8815-0e3292be773f",
   "metadata": {},
   "outputs": [],
   "source": [
    "import sys\n",
    "sys.path.append(r\"C:\\Users\\Gabriel\\AppData\\Roaming\\Python\\Python311\\site-packages\")\n",
    "from pulp import LpMaximize, LpProblem, LpVariable, LpMinimize"
   ]
  },
  {
   "cell_type": "markdown",
   "id": "400279b4-5761-45b6-96ab-337f2e04a22d",
   "metadata": {},
   "source": [
    "### 1º) Certa empresa fabrica dois produtos (P1 e P2). O lucro de P1 é de 100,00 e de P2 igual a 150,00. São necessárias 2 horas para fabricar uma unidade de P1 e 3 horas para fabricar uma unidade de P2. Sendo que há um tempo mensal de 120 horas para serem gastos entre a produção dos produtos. As demandas esperadas permitem concluir que a produção não deve ultrapassar 40 unidades de P1 e 30 unidades de P2, por mês. Elaborar o modelo para a produção mensal."
   ]
  },
  {
   "cell_type": "code",
   "execution_count": 13,
   "id": "ebfb889b-3a5a-4270-87d5-430bba68e58c",
   "metadata": {},
   "outputs": [
    {
     "name": "stdout",
     "output_type": "stream",
     "text": [
      "Solução encontrada!\n",
      "Produto 1 : 15.00 unidades\n",
      "Produto 2 : 30.00 unidades\n",
      "Lucro máximo (Z): R$6000.00\n"
     ]
    }
   ],
   "source": [
    "problem = LpProblem(\"Maximizar_Lucro\", LpMaximize)\n",
    "\n",
    "# variáveis de decisão\n",
    "x1 = LpVariable(\"Produto_1\", lowBound=0)\n",
    "x2 = LpVariable(\"Produto_2\", lowBound=0)\n",
    "\n",
    "# função objetivo\n",
    "problem += 100 * x1 + 150 * x2, \"Lucro_Total\"\n",
    "\n",
    "# restrições \n",
    "problem += 2 * x1 + 3 * x2 <= 120 # tempo mensal\n",
    "problem += x1 <= 40 # limite de unidades\n",
    "problem += x2 <= 30 # limite de unidades\n",
    "\n",
    "# solução\n",
    "problem.solve()\n",
    "\n",
    "# resultados\n",
    "if problem.status == 1:  \n",
    "    print(\"Solução encontrada!\")\n",
    "    print(f\"Produto 1 : {x1.varValue:.2f} unidades\")\n",
    "    print(f\"Produto 2 : {x2.varValue:.2f} unidades\")\n",
    "    print(f\"Lucro máximo (Z): R${problem.objective.value():.2f}\")\n",
    "else:\n",
    "    print(\"Não foi possível encontrar uma solução.\")"
   ]
  },
  {
   "cell_type": "markdown",
   "id": "0b356081-1721-40f8-a18c-a4752384a3c8",
   "metadata": {},
   "source": [
    "### 2º) Um vendedor de frutas pode transportar 800 caixas de frutas para sua região de vendas. Ele necessita transportar 20 caixas de laranjas a um lucro de R 20,00 por caixa, pelo menos 100 caixas de pêssegos a R 10,00/caixa, e no máximo 200 caixas de tangerinas com lucro de R 30,00/caixa. Construa o modelo para obter o lucro máximo."
   ]
  },
  {
   "cell_type": "code",
   "execution_count": 16,
   "id": "95004a59-ee7c-4fb2-9e23-02886d05cd09",
   "metadata": {},
   "outputs": [
    {
     "name": "stdout",
     "output_type": "stream",
     "text": [
      "Solução encontrada!\n",
      "Transporte de laranjas : 20.00 caixas\n",
      "Transporte de pêssegos : 580.00 caixas\n",
      "Transporte de tangerinas : 200.00 caixas\n",
      "Lucro máximo (Z): R$12200.00\n"
     ]
    }
   ],
   "source": [
    "problem = LpProblem(\"Maximizar_Lucro\", LpMaximize)\n",
    "\n",
    "# Variáveis de decisão\n",
    "x1 = LpVariable(\"Laranjas\", lowBound=0)  \n",
    "x2 = LpVariable(\"Pessegos\", lowBound=0)\n",
    "x3 = LpVariable(\"Tangerinas\", lowBound=0)\n",
    "\n",
    "# Função objetivo\n",
    "problem += 20 * x1 + 10 * x2 + 30 * x3, \"Lucro_Total\"\n",
    "\n",
    "# restrições\n",
    "problem += x1 + x2 + x3 <= 800 # Capacidade Total\n",
    "problem += x1 == 20 # Minimo Laranjas\n",
    "problem += x2 >= 100 # Minimo Pessegos\n",
    "problem += x3 <= 200 # Maximo Tangerinas\n",
    "\n",
    "# solução\n",
    "problem.solve()\n",
    "\n",
    "# resultados\n",
    "if problem.status == 1:  \n",
    "    print(\"Solução encontrada!\")\n",
    "    print(f\"Transporte de laranjas : {x1.varValue:.2f} caixas\")\n",
    "    print(f\"Transporte de pêssegos : {x2.varValue:.2f} caixas\")\n",
    "    print(f\"Transporte de tangerinas : {x3.varValue:.2f} caixas\")\n",
    "    print(f\"Lucro máximo (Z): R${problem.objective.value():.2f}\")\n",
    "else:\n",
    "    print(\"Não foi possível encontrar uma solução.\")"
   ]
  },
  {
   "cell_type": "markdown",
   "id": "c766389a-fbeb-4bf0-9860-9f1430996eea",
   "metadata": {},
   "source": [
    "### 3º) Uma rede de televisão local tem o seguinte problema: foi descoberto que o programa “A” com 20 minutos de música e 1 minuto de propaganda chama a atenção de 30.000 telespectadores, enquanto o programa “B”, com 10 minutos de música e 1 minuto de propaganda chama a atenção de 10.000 telespectadores. No decorrer de uma semana, o patrocinador insiste no uso de no mínimo, 5 minutos para a sua propaganda e que não há verba para mais de 80 minutos de música. Modele o problema para determinar o número de vezes que cada programa deve ir ao ar para alcançar o máximo número de telespectadores."
   ]
  },
  {
   "cell_type": "code",
   "execution_count": 20,
   "id": "139b2f5a-4669-4de2-90fe-d39e02246929",
   "metadata": {},
   "outputs": [
    {
     "name": "stdout",
     "output_type": "stream",
     "text": [
      "Solução encontrada!\n",
      "Quantidade de vezes do Progama A : 3.00\n",
      "Quantidade de vezes do Progama B : 2.00\n",
      "Máximo de telespectadores (Z): 110000.00\n"
     ]
    }
   ],
   "source": [
    "problem = LpProblem(\"Maximizar_Telespectadores\", LpMaximize)\n",
    "\n",
    "# variáveis de decisão\n",
    "x1 = LpVariable(\"Programa_A\", lowBound=0)\n",
    "x2 = LpVariable(\"Programa_B\", lowBound=0)\n",
    "\n",
    "# função objetiva\n",
    "problem += x1 * 30000 + x2 * 10000\n",
    "\n",
    "# restrição\n",
    "problem += 20* x1 + 10* x2 <= 80 # tempo de intervalo\n",
    "problem += x1 + x2 >= 5 # tempo de propaganda\n",
    "\n",
    "# solução\n",
    "problem.solve()\n",
    "\n",
    "# resultados\n",
    "if problem.status == 1:  \n",
    "    print(\"Solução encontrada!\")\n",
    "    print(f\"Quantidade de vezes do Progama A : {x1.varValue:.2f}\")\n",
    "    print(f\"Quantidade de vezes do Progama B : {x2.varValue:.2f}\")\n",
    "    print(f\"Máximo de telespectadores (Z): {problem.objective.value():.2f}\")\n",
    "else:\n",
    "    print(\"Não foi possível encontrar uma solução.\")"
   ]
  },
  {
   "cell_type": "markdown",
   "id": "a024d4da-47fa-407f-a45c-85f831df901b",
   "metadata": {},
   "source": [
    "### 4º) Uma empresa fabrica 2 modelos de cintos de couro. O modelo M1, de melhor qualidade, requer o dobro do tempo de fabricação em relação ao modelo M2. Se todos os cintos fossem do modelo M2, a empresa poderia produzir 1.000 unidades por dia. A disponibilidade de couro permite fabricar 800 cintos de ambos os modelos por dia. Os cintos empregam fivelas diferentes, cuja disponibilidade diária é de 400 para M1 e 700 para M2. As receitas unitárias são de 4,00 para M1 e 3,00 para M2. Modele o problema para maximizar a receita com a venda dos cintos."
   ]
  },
  {
   "cell_type": "code",
   "execution_count": 25,
   "id": "ce559e37-7e73-4690-9e43-9050113b067a",
   "metadata": {},
   "outputs": [
    {
     "name": "stdout",
     "output_type": "stream",
     "text": [
      "Solução encontrada!\n",
      "Cinto M1 : 200.00 unidades\n",
      "Cinto M2 : 600.00 unidades\n",
      "Maximizar Receita (Z): R$2600.00\n"
     ]
    }
   ],
   "source": [
    "problem = LpProblem (\"Maximizar_Receita\", LpMaximize)\n",
    "\n",
    "# variáveis de decisão\n",
    "x1 = LpVariable(\"Cinto_M1\", lowBound= 0)\n",
    "x2 = LpVariable(\"Cinto_M2\", lowBound= 0)\n",
    "\n",
    "# função objetivo\n",
    "problem += 4*x1 + 3*x2\n",
    "\n",
    "# restrições\n",
    "problem += 2*x1 + x2 <= 1000 # tempo de unidade\n",
    "problem += x1 + x2 <= 800 # quantidade possivel fabricar\n",
    "problem += x1 <= 400 # limite diário\n",
    "problem += x2 <= 700 # limite diário\n",
    "\n",
    "# solução \n",
    "problem.solve()\n",
    "\n",
    "# resultados\n",
    "if problem.status == 1:  \n",
    "    print(\"Solução encontrada!\")\n",
    "    print(f\"Cinto M1 : {x1.varValue:.2f} unidades\")\n",
    "    print(f\"Cinto M2 : {x2.varValue:.2f} unidades\")\n",
    "    print(f\"Maximizar Receita (Z): R${problem.objective.value():.2f}\")\n",
    "else:\n",
    "    print(\"Não foi possível encontrar uma solução.\")\n"
   ]
  },
  {
   "cell_type": "markdown",
   "id": "aac00c18-ef27-48d5-822d-a1adc5ce0672",
   "metadata": {},
   "source": [
    "### 5º) Uma liga especial constituída de ferro, carvão, silício e níquel pode ser obtida usando a mistura desses minerais além de 2 tipos de materiais recuperados, descritos na Tabela 1 seguinte. A liga ainda deve possuir a seguinte composição final, conforme a Tabela 2. Os custos dos materiais puros são (por kg): ferro: igual R 0,30; carvão: R 0,20; silício: R 0,28; níquel: R 0,50. Construa o modelo para minimizar os custos para composição da liga.\n",
    "\n",
    "### Tabela 1: Materiais Recuperados\n",
    "\n",
    "| Tipo de Metal | Material Recuperado 1 (%)  | Material Recuperado 2 (%) | \n",
    "|----------------|---------------------------|---------------------------|\n",
    "| Ferro          | 60                        | 70                        | \n",
    "| Carvão         | 20                        | 20                        |\n",
    "| Silício        | 20                        | 5                         | \n",
    "| Níquel         | 0                         | 5                         | \n",
    "| Custo/kg (R$)  | 0,20                      | 0,25\n",
    "---\n",
    "\n",
    "### Tabela 2: Composição Final da Liga\n",
    "\n",
    "| Tipo de Metal | Composição Mínima (%) | Composição Máxima (%) |\n",
    "|----------------|-----------------------|-----------------------|\n",
    "| Ferro          | 60                    | 65                    |\n",
    "| Carvão         | 15                    | 20                    |\n",
    "| Silício        | 15                    | 20                    |\n",
    "| Níquel         | 5                     | 8                     |"
   ]
  },
  {
   "cell_type": "code",
   "execution_count": 39,
   "id": "ee35e23e-b98c-487d-974e-a7c7375d15c3",
   "metadata": {},
   "outputs": [
    {
     "name": "stdout",
     "output_type": "stream",
     "text": [
      "Solução encontrada!\n",
      "Ferro: 0.07 \n",
      "Carvão: 0.00 \n",
      "Silicio: 0.00 \n",
      "Niquel: 0.05 \n",
      "Material Recuperado 1: 0.88 \n",
      "Material Recuperado 2: 0.00 \n",
      "Minimizar custo (Z): R$0.22\n"
     ]
    }
   ],
   "source": [
    "problem = LpProblem(\"Minimizar_Custos\", LpMinimize)\n",
    "\n",
    "# variáveis de decisão\n",
    "f = LpVariable(\"Ferro\", lowBound=0)\n",
    "c = LpVariable(\"Carvão\", lowBound=0)\n",
    "s = LpVariable(\"Silicio\", lowBound=0)\n",
    "n = LpVariable(\"Niquel\", lowBound=0)\n",
    "mr1 = LpVariable(\"MaterialRecuperado1\", lowBound=0)\n",
    "mr2 = LpVariable(\"MateriaRecuperado2\", lowBound=0)\n",
    "\n",
    "# função objetivo\n",
    "problem += 0.30*f + 0.2*c + 0.28*s + 0.5*n + 0.2*mr1 + 0.25*mr2\n",
    "\n",
    "# restrições\n",
    "problem += f + c + s + n + mr1 + mr2 == 1 #composição\n",
    "#ferro\n",
    "problem += f + 0.6*mr1 + 0.7*mr2 <= 0.65 # composição do ferro maximo\n",
    "problem += f + 0.6*mr1 + 0.7*mr2 >= 0.6 # composição do ferro minimo\n",
    "#carvão\n",
    "problem += c + 0.2*mr1 + 0.2*mr2 <= 0.2 # composição do carvão maximo\n",
    "problem += c + 0.2*mr1 + 0.2*mr2 >= 0.15 # composição do carvao minimo\n",
    "#silicio\n",
    "problem += s + 0.2*mr1 + 0.05*mr2 <= 0.2 # composição do silicio maximo\n",
    "problem += s + 0.2*mr1 + 0.05*mr2 >= 0.15 # composição do silicio minimo\n",
    "#niquel\n",
    "problem += n + 0.05*mr2 <= 0.08 # composição do niquel maximo\n",
    "problem += n + 0.05*mr2 >= 0.05 # composição do niquel minimo\n",
    "\n",
    "# solução\n",
    "problem.solve()\n",
    "\n",
    "if problem.status == 1:  \n",
    "    print(\"Solução encontrada!\")\n",
    "    print(f\"Ferro: {f.varValue:.2f} \")\n",
    "    print(f\"Carvão: {c.varValue:.2f} \")\n",
    "    print(f\"Silicio: {s.varValue:.2f} \")\n",
    "    print(f\"Niquel: {n.varValue:.2f} \")\n",
    "    print(f\"Material Recuperado 1: {mr1.varValue:.2f} \")\n",
    "    print(f\"Material Recuperado 2: {mr2.varValue:.2f} \")\n",
    "    print(f\"Minimizar custo (Z): R${problem.objective.value():.2f}\")\n",
    "else:\n",
    "    print(\"Não foi possível encontrar uma solução.\")\n"
   ]
  },
  {
   "cell_type": "markdown",
   "id": "8f0b615a-437b-4cc7-9dbb-190d3f79a840",
   "metadata": {},
   "source": [
    "### 6º) A Eletro-Poly Corporation é a fabricante líder mundial de anel coletor. Um anel coletor é um dispositivo de acoplamento que permite que a corrente passe através de uma conexão giratória, usada em máquinas de empilhamento e de armazenamento. Recentemente, a empresa recebeu um pedido de R$750.000 para diversas quantidades de três tipos de anéis coletores. Cada anel exige certa quantidade de tempo para montar o enrolamento e o coletor. A tabela abaixo resume as exigências para os três modelos de anéis coletores.\n",
    "\n",
    "### Tabela 1\n",
    "\n",
    "| Produto    | Qtd. pedida | Horas para fazer o enrolamento (por unidade) | Horas necessárias para fazer o coletor (por unidade) |\n",
    "|------------|-------------|---------------------------------------------|-----------------------------------------------------|\n",
    "| Produto 1  | 3000        | 2                                           | 1                                                   |\n",
    "| Produto 2  | 2000        | 1.5                                         | 2                                                   |\n",
    "| Produto 3  | 900         | 3                                           | 1                                                   |\n",
    "\n",
    "---\n",
    "\n",
    "### Porém, a empresa não tem capacidade para atender a todos os pedidos. Logo, há disponível 10.000 horas de capacidade para o enrolamento e 5.000 horas de capacidade para o coletor. Entretanto, para suprir a demanda, a empresa pode subcontratar a produção através de um dos concorrentes. Abaixo segue a descrição dos custos de produzir e comprar os três modelos pedidos.\n",
    "\n",
    "\n",
    " ### Tabela 2\n",
    "| Modelo    | Custo de fabricar  | Custo de comprar  |\n",
    "|-----------|------------------------|-----------------------|\n",
    "| Modelo 1  | 50                     | 61                    |\n",
    "| Modelo 2  | 83                     | 97                    |\n",
    "| Modelo 3  | 130                    | 145                   |\n",
    "\n",
    "### Modele o problema para determinar o número de anéis coletores que devem ser fabricados e/ou comprados para atender ao pedido do cliente."
   ]
  },
  {
   "cell_type": "code",
   "execution_count": 62,
   "id": "115834bd-e579-4394-9a38-79a582ff7def",
   "metadata": {},
   "outputs": [
    {
     "name": "stdout",
     "output_type": "stream",
     "text": [
      "Solução encontrada!\n",
      "Modelo 1: 3000.00 \n",
      "Modelo 2: 550.00 \n",
      "Modelo 3: 900.00 \n",
      "Compra por fora do modelo 1: 0.00 \n",
      "Compra por fora do modelo 2: 1450.00 \n",
      "Compra por fora do modelo 3: 0.00 \n",
      "Minimizar custo (Z): R$453300.00\n"
     ]
    }
   ],
   "source": [
    "problem = LpProblem(\"Minimizar_Custo\", LpMinimize)\n",
    "\n",
    "#variáveis de decisão\n",
    "m1 = LpVariable(\"Modelo 1\", lowBound=0)\n",
    "m2 = LpVariable(\"Modelo 2\", lowBound=0)\n",
    "m3 = LpVariable(\"Modelo 3\", lowBound=0) \n",
    "x1 = LpVariable(\"Comprar modelo 1\", lowBound=0)\n",
    "x2 = LpVariable(\"Comprar modelo 2\", lowBound=0)\n",
    "x3 = LpVariable(\"Comprar modelo 3\", lowBound=0)\n",
    "\n",
    "#função objetivo\n",
    "problem += 50*m1 + 83*m2 + 130*m3 + 61*x1 + 97*x2 + 145*x3\n",
    "\n",
    "#restrições\n",
    "problem += 2*m1 + 1.5*m2 + 3*m3 <= 10000 # enrolamento hora\n",
    "problem += m1 + 2*m2 + m3 <= 5000 # coletor hora\n",
    "problem += m1 + x1 == 3000 # modelo 1 + compra por fora\n",
    "problem += m2 + x2 == 2000 # modelo 2 + compra por fora\n",
    "problem += m3 + x3 == 900 # modelo 3 + compra por fora\n",
    "\n",
    "#solução\n",
    "problem.solve()\n",
    "\n",
    "if problem.status == 1:  \n",
    "    print(\"Solução encontrada!\")\n",
    "    print(f\"Modelo 1: {m1.varValue:.2f} \")\n",
    "    print(f\"Modelo 2: {m2.varValue:.2f} \")\n",
    "    print(f\"Modelo 3: {m3.varValue:.2f} \")\n",
    "    print(f\"Compra por fora do modelo 1: {x1.varValue:.2f} \")\n",
    "    print(f\"Compra por fora do modelo 2: {x2.varValue:.2f} \")\n",
    "    print(f\"Compra por fora do modelo 3: {x3.varValue:.2f} \")\n",
    "    print(f\"Minimizar custo (Z): R${problem.objective.value():.2f}\")\n",
    "else:\n",
    "    print(\"Não foi possível encontrar uma solução.\")"
   ]
  },
  {
   "cell_type": "markdown",
   "id": "64bca9c7-79c5-4e27-b5f7-d1d7fb71fc19",
   "metadata": {},
   "source": [
    "### 7º) Pedro Saraiva realiza projetos de portfólios de investimentos de renda para aposentados usando “bonds” corporativos. Em sua última consulta com o seu cliente, ele concluiu que o cliente possuía um montante em ativos líquidos quando se aposentar em R$750.000 para serem investidos após a aposentadoria. Pedro e seu cliente concordaram em considerar obrigações futuras das seguintes empresas:\n",
    "\n",
    "| Empresa          | Retorno (%) | Anos para o vencimento | Classificação   |\n",
    "|------------------|-------------|------------------------|-----------------|\n",
    "| Acme Chemical    | 8,65        | 11                     | 1 – Excelente   |\n",
    "| DynaStar         | 9,50        | 10                     | 3 – Boa         |\n",
    "| Eagle Vision     | 10,00       | 6                      | 4 – Sa\\tisfatória|\n",
    "| Micromodeling    | 8,75        | 10                     | 1 – Excelente   |\n",
    "| OptiPro          | 9,25        | 7                      | 3 – Boa         |\n",
    "| Sabre Systems    | 9,00        | 13                     | 2 – Muito boa   |\n",
    "\n",
    "### obrigação, a coluna “Anos para o vencimento” indica o prazo de vencimento das obrigações e a coluna “Classificação” indica a avaliação de um segurador independente quanto à qualidade ou risco associado a cada título. Pedro acredita que todas as empresas são investimentos relativamente seguros. Entretanto, para proteger a renda, Pedro e seu cliente concordaram que não mais do que 25% do dinheiro deve ser investido em qualquer investimento disponível. Além disso, mesmo sabendo que a DynStar, a Eagle Vision e a OptiPro oferecem os retornos mais altos, ambos concordaram que não mais do que 35% do dinheiro deve ser investido nessas obrigações, porque elas também representam os riscos mais altos (isto é, foram classificadas com notas menores do que “muito boa”). Também houve um acordo que metade do dinheiro deve ser investido em empresas com prazos maiores ou iguais a 10 anos. Portanto, é preciso formular o problema para maximizar o retorno com os investimentos."
   ]
  },
  {
   "cell_type": "code",
   "execution_count": 52,
   "id": "35ae7ab0-a3c7-4731-a67f-e4428b659e34",
   "metadata": {},
   "outputs": [
    {
     "name": "stdout",
     "output_type": "stream",
     "text": [
      "Solução encontrada!\n",
      "Acme Chemical: 187.50 \n",
      "Dyna Star: 75.00 \n",
      "Eagle Vision: 187.50 \n",
      "Micromodeling: 187.50 \n",
      "OptiPro: 0.00 \n",
      "Sabre Systems: 187.50 \n",
      "Maximizar retorno (Z): R$7537.50\n"
     ]
    }
   ],
   "source": [
    "problem = LpProblem(\"Maximizar_custo\", LpMaximize)\n",
    "\n",
    "#variáveis de decisão\n",
    "x1 = LpVariable(\"Acme Chemical\", lowBound=0)\n",
    "x2 = LpVariable(\"Dyna Star\", lowBound=0)\n",
    "x3 = LpVariable(\"Eagle Vision\", lowBound=0)\n",
    "x4 = LpVariable(\"Micromodeling\", lowBound=0)\n",
    "x5 = LpVariable(\"OptiPro\", lowBound=0)\n",
    "x6 = LpVariable(\"Sabre Systems\", lowBound=0)\n",
    "\n",
    "#função objetiva\n",
    "problem += 8.65*x1 + 9.50*x2 + 10*x3 + 8.75*x4 + 9.25*x5 + 9*x6\n",
    "\n",
    "#restrições\n",
    "problem += x1 <= 187.500 #25% por investimento\n",
    "problem += x2 <= 187.500 #25% por investimento\n",
    "problem += x3 <= 187.500 #25% por investimento\n",
    "problem += x4 <= 187.500 #25% por investimento\n",
    "problem += x5 <= 187.500 #25% por investimento\n",
    "problem += x6 <= 187.500 #25% por investimento\n",
    "problem += x2 + x3 + x5 <= 262.500 # 35% não mais\n",
    "problem += x1 + x2 + x4 + x6 >= 375.000 # metade 50%\n",
    "\n",
    "#solução\n",
    "problem.solve()\n",
    "\n",
    "if problem.status == 1:  \n",
    "    print(\"Solução encontrada!\")\n",
    "    print(f\"Acme Chemical: {x1.varValue:.2f} \")\n",
    "    print(f\"Dyna Star: {x2.varValue:.2f} \")\n",
    "    print(f\"Eagle Vision: {x3.varValue:.2f} \")\n",
    "    print(f\"Micromodeling: {x4.varValue:.2f} \")\n",
    "    print(f\"OptiPro: {x5.varValue:.2f} \")\n",
    "    print(f\"Sabre Systems: {x6.varValue:.2f} \")\n",
    "    print(f\"Maximizar retorno (Z): R${problem.objective.value():.2f}\")\n",
    "else:\n",
    "    print(\"Não foi possível encontrar uma solução.\")"
   ]
  },
  {
   "cell_type": "markdown",
   "id": "a4bf4083-f49d-4c35-be79-bf1984a3a052",
   "metadata": {},
   "source": [
    "### 8º) A Agri-Pro é uma empresa que vende produtos agrícolas a fazendeiros de diversos estados. Um serviço que ela oferece a seus clientes é uma mistura personalizada de ração, em que um fazendeiro pode pedir uma quantidade especifica de ração para gado e determinar a quantidade de milho, cereais e sais minerais que a ração deve conter. Esse é um serviço importante porque a ração apropriada para os diversos animais da fazenda muda regularmente, dependendo do clima, das condições das pastagens e assim por diante. A Agri-Pro armazena quantidades a granel de quatro tipos de rações que ela pode misturar para atender às especificações de um determinado cliente. A tabela seguinte mostra as quatro rações, os percentuais de milho, cereais e sais minerais e o custo por libra de cada tipo.\n",
    "\n",
    "### Porcentagem de nutrientes\n",
    "\n",
    "| Nutriente         | Ração 1 (%) | Ração 2 (%) | Ração 3 (%) | Ração 4 (%) | \n",
    "|-------------------|-------------|-------------|-------------|-------------|\n",
    "| Milho            | 30          | 5           | 20          | 10          |\n",
    "| Cereais          | 10          | 30          | 15          | 10          | \n",
    "| Sais minerais    | 20          | 20          | 20          | 30          | \n",
    "| Custo por libra  | 0.25        | 0.30        | 0.32        | 0.15        |\n",
    "\n",
    "---\n",
    "### Na média, os cidadãos dos EUA consomem quase 70 libras de carne de frango por ano. Para continuar competitivos, os granjeiros devem se assegurar de que as suas criações recebam os nutrientes necessários e da maneira mais efetiva em termos de custo. A Agri-Pro acabou de receber um pedido de um granjeiro local par fornecer 8000 libras de ração. O granjeiro solicitou que essa ração contenha pelo menos 20% de milho, 15% de cereais e 15% de sais minerais. Modelo o problema para minimizar o custo."
   ]
  },
  {
   "cell_type": "code",
   "execution_count": 56,
   "id": "c7971ad2-6ba6-43f1-a3d4-072bf0b672c8",
   "metadata": {},
   "outputs": [
    {
     "name": "stdout",
     "output_type": "stream",
     "text": [
      "Solução encontrada!\n",
      "Ração 1: 4500.00\n",
      "Ração 2 : 2000.00\n",
      "Ração 3 : 0.00\n",
      "Ração 4 : 1500.00\n",
      "Minimizar Custo (Z): R$1950.00\n"
     ]
    }
   ],
   "source": [
    "problem = LpProblem(\"Minimizar_Custo\", LpMinimize)\n",
    "\n",
    "#variáveis de decisão\n",
    "r1 = LpVariable(\"Ração 1\", lowBound=0)\n",
    "r2 = LpVariable(\"Ração 2\", lowBound=0)\n",
    "r3 = LpVariable(\"Ração 3\", lowBound=0)\n",
    "r4 = LpVariable(\"Ração 4\", lowBound=0)\n",
    "\n",
    "#função objetiva\n",
    "problem += 0.25*r1 + 0.30*r2 + 0.32*r3 + 0.15*r4\n",
    "\n",
    "#restrições\n",
    "problem += 30*r1 + 5*r2 + 20*r3 + 10*r4 >= 20*8000 # milho\n",
    "problem += 10*r1 + 30*r2 + 15*r3 + 10*r4 >= 15*8000 # cereais\n",
    "problem += 20*r1 + 20*r2 + 20*r3 + 30*r4 >= 15*8000 # sais minerais\n",
    "problem += r1 + r2 + r3 + r4 == 8000 # demanda \n",
    "\n",
    "#solução\n",
    "problem.solve()\n",
    "\n",
    "#resultados\n",
    "if problem.status == 1:  \n",
    "    print(\"Solução encontrada!\")\n",
    "    print(f\"Ração 1: {r1.varValue:.2f}\")\n",
    "    print(f\"Ração 2 : {r2.varValue:.2f}\")\n",
    "    print(f\"Ração 3 : {r3.varValue:.2f}\")\n",
    "    print(f\"Ração 4 : {r4.varValue:.2f}\")\n",
    "    print(f\"Minimizar Custo (Z): R${problem.objective.value():.2f}\")\n",
    "else:\n",
    "    print(\"Não foi possível encontrar uma solução.\")"
   ]
  },
  {
   "cell_type": "markdown",
   "id": "8acf73c8-ffb5-4a03-a81d-c357d59f5a45",
   "metadata": {},
   "source": [
    "### 9º) Uma companhia fabrica os produtos P1 e P2 que utilizam os mesmos recursos produtivos: matéria-prima, forja e polimento. Cada unidade de P1 exige 100 unidades de matéria-prima, 4 horas de forjaria e 2 horas de polimento. Para o produto P2, são necessárias 200 unidades de matéria-prima, 2 horas de forjaria e 3 de polimento. O preço de venda é de R1.900 e R2.100 para P1 e P2, respectivamente. As disponibilidades totais de insumos, são: 500 unidades de matéria prima, 20 horas de forja e 10 horas de polimento. Modelar o problema para maximizar a receita"
   ]
  },
  {
   "cell_type": "code",
   "execution_count": 64,
   "id": "1d03a257-edd2-4431-b5bf-5f47968c0b1b",
   "metadata": {},
   "outputs": [
    {
     "name": "stdout",
     "output_type": "stream",
     "text": [
      "Solução encontrada!\n",
      "Produto 1: 5.00\n",
      "Produto 2 : 0.00\n",
      "Maximizar Receita (Z): R$9500.00\n"
     ]
    }
   ],
   "source": [
    "problem = LpProblem(\"Maximizar_Lucro\", LpMaximize)\n",
    "\n",
    "#variáveis de decisão\n",
    "p1 = LpVariable(\"Produto 1\", lowBound=0)\n",
    "p2 = LpVariable(\"Produto 2\", lowBound=0)\n",
    "\n",
    "#função objetiva\n",
    "problem += 1900*p1+ 2100*p2\n",
    "\n",
    "#restrições\n",
    "problem += 100*p1 + 200 *p2 <= 500 # por unidade de materia\n",
    "problem += 4*p1 + 2*p2 <= 20 # por horas de forja\n",
    "problem += 2*p1 + 3*p2 <= 10 # por horas de polimento\n",
    "\n",
    "#solução\n",
    "problem.solve()\n",
    "\n",
    "#resultados\n",
    "if problem.status == 1:  \n",
    "    print(\"Solução encontrada!\")\n",
    "    print(f\"Produto 1: {p1.varValue:.2f}\")\n",
    "    print(f\"Produto 2 : {p2.varValue:.2f}\")\n",
    "    print(f\"Maximizar Receita (Z): R${problem.objective.value():.2f}\")\n",
    "else:\n",
    "    print(\"Não foi possível encontrar uma solução.\")\n",
    "\n"
   ]
  },
  {
   "cell_type": "markdown",
   "id": "88a58d64-0f5e-4880-ba4a-e2c60032cd0a",
   "metadata": {},
   "source": [
    "### 10º) A firma LCL Tintas Ltda. produz dois tipos de tintas: Seca Rápido (SR) e Super Seca (SS). Ambas são produzidas a partir de uma base de silicato e de óleo de linhaça, que são adquiridos pela LCL de vários fornecedores. Atualmente apenas duas soluções preliminares estão disponíveis no mercado, além dos produtos isolados. A solução do tipo A contém 60% de silicato e 40 % de óleo de linhaça, e a do tipo B contém 30% de silicato e 70% de óleo de linhaça. O preço da solução A custa R0,50/litro e a do tipo B custa R0,75/litro, enquanto o silicato e o óleo de linhaça isoladamente custam R1,00 e R1,50 por litro. Cada litro de SR requer, no mínimo, 25% de silicato e 50% de óleo de linhaça, e cada litro de SS requer, no mínimo, 20% de silicato e, no máximo, 50% de óleo de linhaça. Modele o problema de programação para determinar quantos litros de cada solução e de cada produto devem ser comprados para produzir exatamente 100 litros de SR e 250 litros de SS."
   ]
  },
  {
   "cell_type": "code",
   "execution_count": 66,
   "id": "23b70c9d-ece8-41f3-ad89-4289f1633dd7",
   "metadata": {},
   "outputs": [
    {
     "name": "stdout",
     "output_type": "stream",
     "text": [
      "Solução encontrada!\n",
      "Tinta Super Seca tipo A: 100.00 \n",
      "Tinta Super Seca tipo B: 0.00 \n",
      "Tinta Super Seca silicato puro: 0.00 \n",
      "Tinta Super Seca linhaça pura: 0.00 \n",
      "Tinta Seca Rápido tipo A: 83.33 \n",
      "Tinta Seca Rápido tipo B: 0.00 \n",
      "Tinta Seca Rápido silicato puro: 0.00 \n",
      "Tinta Seca Rápido linhaça pura: 16.67 \n",
      "Minimizar Custo (Z): R$75.00\n"
     ]
    }
   ],
   "source": [
    "problem = LpProblem(\"Minimizar_Custo\", LpMinimize)\n",
    "\n",
    "#variáveis de decisão\n",
    "SS_A = LpVariable(\"Tinta Super Seca tipo A\", lowBound=0)\n",
    "SS_B = LpVariable(\"Tinta Super Seca tipo B\", lowBound=0)\n",
    "SS_S = LpVariable(\"Tinta Super Seca silicato puro\", lowBound=0)\n",
    "SS_L = LpVariable(\"Tinta Super Seca linhaça pura\", lowBound=0)\n",
    "SR_A = LpVariable(\"Tinta Seca Rápido tipo A\", lowBound=0)\n",
    "SR_B = LpVariable(\"Tinta Seca Rápido tipo B\", lowBound=0)\n",
    "SR_S = LpVariable(\"Tinta Seca Rápido silicato puro\", lowBound=0)\n",
    "SR_L = LpVariable(\"Tinta Seca Rápido linhaça pura\", lowBound=0)\n",
    "\n",
    "#função objetiva\n",
    "problem += 0.5*(SS_A + SR_B) + 0.75*(SS_B + SR_B) + 1*(SS_S + SR_S) + 1.5*(SS_L + SR_L)\n",
    "\n",
    "#restrições \n",
    "problem += 0.6*SR_A + 0.3*SR_B + 1*SR_S >= 0.25*(SR_A + SR_B + SR_S + SR_L) # compposição do Silicato no SR\n",
    "problem += 0.4*SR_A+ 0.7*SR_B + 1*SR_L >= 0.50*(SR_A + SR_B + SR_S + SR_L)  # composição da linhaça no SR\n",
    "problem += 0.6*SS_A+ 0.3*SS_B + 1*SR_L >= 0.20*(SS_A + SS_B + SS_S + SS_L) # composição do Silicato no SS\n",
    "problem += 0.4*SS_A + 0.7*SS_B + 1*SS_L <= 0.50*(SS_A + SS_B + SS_S + SS_L) # composição da linhaça no SS\n",
    "problem += SR_A + SR_B + SR_S + SR_L == 100 # limite de produção SR\n",
    "problem += SS_A + SS_B + SS_S + SS_L ==  100 # limite de produção do SS\n",
    "\n",
    "#solução\n",
    "problem.solve()\n",
    "\n",
    "#resultados\n",
    "if problem.status == 1:  \n",
    "    print(\"Solução encontrada!\")\n",
    "    print(f\"Tinta Super Seca tipo A: {SS_A.varValue:.2f} \")\n",
    "    print(f\"Tinta Super Seca tipo B: {SS_B.varValue:.2f} \")\n",
    "    print(f\"Tinta Super Seca silicato puro: {SS_S.varValue:.2f} \")\n",
    "    print(f\"Tinta Super Seca linhaça pura: {SS_L.varValue:.2f} \")\n",
    "    print(f\"Tinta Seca Rápido tipo A: {SR_A.varValue:.2f} \")\n",
    "    print(f\"Tinta Seca Rápido tipo B: {SR_B.varValue:.2f} \")\n",
    "    print(f\"Tinta Seca Rápido silicato puro: {SR_S.varValue:.2f} \")\n",
    "    print(f\"Tinta Seca Rápido linhaça pura: {SR_L.varValue:.2f} \")\n",
    "    print(f\"Minimizar Custo (Z): R${problem.objective.value():.2f}\")\n",
    "else:\n",
    "    print(\"Não foi possível encontrar uma solução.\")\n"
   ]
  },
  {
   "cell_type": "markdown",
   "id": "92197cd4-f1a6-42ed-b78b-157a8b467279",
   "metadata": {},
   "source": [
    "### 11º) Uma empresa fabrica dois produtos A e B. O volume de vendas de A é de no mínimo 80% do total de vendas de ambos (A e B). Contudo, a empresa não pode vender mais do que 100 unidades de A por dia. Ambos os produtos usam uma matéria-prima cuja disponibilidade máxima diária é de 240 lb. As taxas de utilização da matéria-prima são 2 lb por unidade de A e 4 lb por unidade de B. Os lucros unitários para A e B são 20 e 50, respectivamente. Determine o mix de produto ótimo para a empresa."
   ]
  },
  {
   "cell_type": "code",
   "execution_count": 68,
   "id": "34c095d2-87ab-441a-ab15-be9f723bc3d1",
   "metadata": {},
   "outputs": [
    {
     "name": "stdout",
     "output_type": "stream",
     "text": [
      "Solução encontrada!\n",
      "Produto A: 80.00\n",
      "Produto B: 20.00\n",
      "Maximizar Receita (Z): R$2600.00\n"
     ]
    }
   ],
   "source": [
    "problem = LpProblem(\"Maximizar_Lucro\", LpMaximize)\n",
    "\n",
    "#variáveis de decisão\n",
    "a = LpVariable(\"Produto A\", lowBound = 0)\n",
    "b = LpVariable(\"Produto B\", lowBound = 0)\n",
    "\n",
    "# função objetivo\n",
    "problem += 20*a + 50*b\n",
    "\n",
    "#restrições\n",
    "problem += a >= 0.8*(a+b) # 80% do total\n",
    "problem += a <= 100 # limite diario de A\n",
    "problem += 2*a + 4*b <= 240 # matéria-prima\n",
    "\n",
    "#solução\n",
    "problem.solve()\n",
    "\n",
    "#resultados\n",
    "if problem.status == 1:  \n",
    "    print(\"Solução encontrada!\")\n",
    "    print(f\"Produto A: {a.varValue:.2f}\")\n",
    "    print(f\"Produto B: {b.varValue:.2f}\")\n",
    "    print(f\"Maximizar Receita (Z): R${problem.objective.value():.2f}\")\n",
    "else:\n",
    "    print(\"Não foi possível encontrar uma solução.\")\n"
   ]
  },
  {
   "cell_type": "markdown",
   "id": "ebf477f8-fe84-4bdf-a89e-d60ba329aa46",
   "metadata": {},
   "source": [
    "### 12º) O ChemLabs usa as matérias-primas I e II para produzir dois produtos líquidos para limpeza doméstica, A e B. As disponibilidades diárias das matérias-primas I e II são de 150 e 145 unidades, respectivamente. Uma unidade do produto A consome 0,5 unidades de matéria-prima I e 0,6 unidades a matéria-prima II, e uma unidade do produto B usa 0,5 unidades da matéria-prima I e 0,4 unidades da matéria-prima II. Os lucros por unidade dos produtos A e B são 8 e  10, respectivamente. A demanda diária do produto A varia entre 30 e 150 unidades e a do produto B, entre 40 e 200 unidades. Encontre as quantidades ótimas de produção de A e B."
   ]
  },
  {
   "cell_type": "code",
   "execution_count": 73,
   "id": "ff54279c-7d85-4b11-8a7b-f2afa0614ec9",
   "metadata": {},
   "outputs": [
    {
     "name": "stdout",
     "output_type": "stream",
     "text": [
      "Solução encontrada!\n",
      "Produto A: 100.00\n",
      "Produto B: 200.00\n",
      "Maximizar Receita (Z): R$2800.00\n"
     ]
    }
   ],
   "source": [
    "problem = LpProblem(\"Maximizar_Lucro\", LpMaximize)\n",
    "\n",
    "#variáveis de decisão\n",
    "A = LpVariable(\"Produto A\", lowBound=0)\n",
    "B = LpVariable(\"Produto B\", lowBound=0)\n",
    "\n",
    "#função objetiva\n",
    "problem += 8*A + 10*B\n",
    "\n",
    "#restrições\n",
    "problem += A >= 30 # limite de A\n",
    "problem += A <= 150 # limite de A\n",
    "problem += B >= 40  # limite de B\n",
    "problem += B <= 200 # limite de B\n",
    "problem += 0.5*A + 0.5*B <= 150 # disponibilidade de matéria-prima 1\n",
    "problem += 0.6*A + 0.4*B <= 145 # disponibilidade de matéria-prima 2\n",
    "\n",
    "#resolução\n",
    "problem.solve()\n",
    "\n",
    "#resultado\n",
    "if problem.status == 1:  \n",
    "    print(\"Solução encontrada!\")\n",
    "    print(f\"Produto A: {A.varValue:.2f}\")\n",
    "    print(f\"Produto B: {B.varValue:.2f}\")\n",
    "    print(f\"Maximizar Receita (Z): R${problem.objective.value():.2f}\")\n",
    "else:\n",
    "    print(\"Não foi possível encontrar uma solução.\")\n"
   ]
  },
  {
   "cell_type": "markdown",
   "id": "23444e5c-d168-4e4d-9c36-b52b79227418",
   "metadata": {},
   "source": [
    "### 13º) A Burruoughs Garment Company fabrica camisas masculinas e blusas femininas para a Walmark Discount Store. A Walmark aceitará toda a produção fornecida pela Burroughs. O processo de produção inclui cortar, costurar e embalar. A Burroughs emprega 25 trabalhadores no departamento de corte, 35 no departamento de costura e 5 no departamento de embalagem. A empresa trabalha em turnos de 8 horas por dia, 5 dias por semana. A Tabela 2 dá os requisitos de tempo e os lucros por unidade para as duas peças de vestuário. Determine a programação semanal ótima de produção para a Burroughs.\n",
    "\n",
    "                    \n",
    "| **Peça**   |**Corte** | **Costura** | **Embalagem** | **Lucro por unidade** |\n",
    "|------------|-----------|-------------|---------------|----------------------|\n",
    "| **Camisas**|20         | 70          | 12            | 8                    |\n",
    "| **Blusas** |60         | 60          | 4             | 12                   |\n"
   ]
  },
  {
   "cell_type": "code",
   "execution_count": 75,
   "id": "bc53de6e-3af3-49af-9b83-be0d231242dd",
   "metadata": {},
   "outputs": [
    {
     "name": "stdout",
     "output_type": "stream",
     "text": [
      "Solução encontrada!\n",
      "Camisas: 480.00\n",
      "Blusas: 840.00\n",
      "Maximizar Receita (Z): R$13920.00\n"
     ]
    }
   ],
   "source": [
    "problem = LpProblem(\"Maximizar_Lucro\", LpMaximize)\n",
    "\n",
    "#variáveis de decisão\n",
    "c = LpVariable(\"Camisas\", lowBound=0)\n",
    "b = LpVariable(\"Blusas\", lowBound=0)\n",
    "\n",
    "#função objetivo\n",
    "problem += 8*c + 12*b\n",
    "\n",
    "#restrições\n",
    "problem += 20*c + 60*b <= 25*480*5 # corte\n",
    "problem += 70*c + 60*b <= 35*480*5 # costura\n",
    "problem += 12*c + 4*b <= 5*480*5 # embalagem\n",
    "\n",
    "#solução\n",
    "problem.solve()\n",
    "\n",
    "#resultado\n",
    "if problem.status == 1:  \n",
    "    print(\"Solução encontrada!\")\n",
    "    print(f\"Camisas: {c.varValue:.2f}\")\n",
    "    print(f\"Blusas: {b.varValue:.2f}\")\n",
    "    print(f\"Maximizar Receita (Z): R${problem.objective.value():.2f}\")\n",
    "else:\n",
    "    print(\"Não foi possível encontrar uma solução.\")\n"
   ]
  },
  {
   "cell_type": "markdown",
   "id": "4bfe85d1-686b-43a2-947a-02c468ae6f12",
   "metadata": {},
   "source": [
    "### 14º) A cidade de Mossoró enfrenta uma série carência orçamentária. Em busca de uma solução de longo prazo, a câmara de vereadores da cidade aprova uma melhoria da base de cobrança de impostos que prevê a condenação de uma área habitacional do centro da cidade e sua substituição por um conjunto habitacional moderno. O projeto envolve duas fases: 1) demolição das casas que estão aquém do padrão para liberar terreno para o novo projeto; e 2) construção do novo conjunto urbano. A seguir o resumo da situação é apresentado:\n",
    "\n",
    "### a) Um total de 300 casas aquém do padrão podem ser demolidas. Cada casa ocupa um lote de 0,25 acres. O custo da demolição de uma casa condenada é de 2.000.\n",
    "### b) Os tamanhos de lotes para domicílios (unidades) simples, duplos, triplos e quádruplos são de 0,18; 0,28; 0,4 e 0,5 acres, respectivamente. Ruas, espaços abertos e instalações públicas ocupam 15% da área disponível.\n",
    "### c) No novo conjunto habitacional, as unidades triplas e quadruplas representam no mínimo 25% do total. Unidades simples devem representar no mínimo 20% de todas as unidades, e unidades duplas, no mínimo 10%.\n",
    "### d) O imposto cobrado por unidade para unidades simples, duplas, triplas e quadruplas é de 1.000,  1.900,  2.700 e 3.400, respectivamente.\n",
    "### e) O custo da construção por unidade domiciliar simples, duplas, tripla e quadrupla é de 50.000, 70.000, 130.000 e 160.000, respectivamente. O financiamento acordado com um banco local será de no máximo 15 milhões.\n",
    "\n",
    "### Quantas unidades de cada tipo devem ser construídas para maximizar a arrecada de impostos?"
   ]
  },
  {
   "cell_type": "code",
   "execution_count": 81,
   "id": "8df78fae-f59c-4cb9-bcf7-dd879751166a",
   "metadata": {},
   "outputs": [
    {
     "name": "stdout",
     "output_type": "stream",
     "text": [
      "Solução encontrada!\n",
      "Imposto Unidade Simples: 358297.04\n",
      "Imposto Unidade Duplas: 985316.85\n",
      "Imposto Unidade Triplas: 447871.29\n",
      "Imposto Unidade Quadruplas: 0.00\n",
      "Imposto Unidade Condenada: 2444850.40\n",
      "Maximizar imposto (Z): R$3439651538.00\n"
     ]
    }
   ],
   "source": [
    "problem = LpProblem(\"Maximizar_Lucro\", LpMaximize)\n",
    "\n",
    "#variáveis de decisão\n",
    "x1 = LpVariable(\"Unidade Simples\", lowBound=0) \n",
    "x2 = LpVariable(\"Unidade Duplos\", lowBound=0)\n",
    "x3 = LpVariable(\"Unidade Triplos\", lowBound=0)\n",
    "x4 = LpVariable(\"Unidade Quadruplos\", lowBound=0)\n",
    "x5 = LpVariable(\"Unidade Condenada\", lowBound=0)\n",
    "#função objetivo\n",
    "problem += (1000)*x1 + (1900)*x2 + (2700)*x3 + (3400)*x4\n",
    "\n",
    "#restrições\n",
    "problem += 0.18*x1 + 0.28*x2 + 0.4*x3 + 0.5*x4 <= (0.85*.25)*x5 # Tamanho de lotes\n",
    "problem += x1 >= 0.2*(x1 + x2 + x3 + x4) # novo conjunto habitacional\n",
    "problem += x2 >= 0.1*(x1 + x2 + x3 + x4) # novo conjuto habitacional\n",
    "problem += x3 + x4 >= 0.25*(x1 + x2 + x3 + x4) # novo conjunto habitacional\n",
    "problem += 50.000*x1 + 70.000*x2 + 130.000*x3 + 160.000*x4 + 2.000*x5 <= 150000000 # limite de financiamento\n",
    "\n",
    "#solução\n",
    "problem.solve()\n",
    "\n",
    "#resultado\n",
    "if problem.status == 1:  \n",
    "    print(\"Solução encontrada!\")\n",
    "    print(f\"Imposto Unidade Simples: {x1.varValue:.2f}\")\n",
    "    print(f\"Imposto Unidade Duplas: {x2.varValue:.2f}\")\n",
    "    print(f\"Imposto Unidade Triplas: {x3.varValue:.2f}\")\n",
    "    print(f\"Imposto Unidade Quadruplas: {x4.varValue:.2f}\")\n",
    "    print(f\"Imposto Unidade Condenada: {x5.varValue:.2f}\")\n",
    "    print(f\"Maximizar imposto (Z): R${problem.objective.value():.2f}\")\n",
    "else:\n",
    "    print(\"Não foi possível encontrar uma solução.\")"
   ]
  },
  {
   "cell_type": "markdown",
   "id": "31e95760-856e-4c66-b08c-28c01cd241c0",
   "metadata": {},
   "source": [
    "### 15º) A Acme Manufacturing Company firmou um contrato para entrega de janelas de casas para os próximos seis meses. As demandas para cada mês são de 100, 250, 190, 140, 220 e 110 unidades, respectivamente. O custo de produção por janela varia de mês para mês, dependendo do custo da mão-de-obra, do material e de utilidades. A Acme estima que o custo de produção por janela nos próximos seis meses seja $50, $45, $ 55, $48, $52 e $50, respectivamente. Para aproveitar a vantagem das variações no custo de fabricação, a Acme pode optar por produzir mais do que o necessário em determinado mês e ter as unidades excedentes para entregar em meses posteriores. Entretanto, isso incorrerá em custos de armazenagem de $8 por janela, por mês, considerando o estoque no final do mês. Desenvolva um modelo de programação linear para determinar a programação ótima de produção."
   ]
  },
  {
   "cell_type": "code",
   "execution_count": 86,
   "id": "39a14a8f-15b8-4011-916d-9a56928c7ce9",
   "metadata": {},
   "outputs": [
    {
     "name": "stdout",
     "output_type": "stream",
     "text": [
      "Solução encontrada!\n",
      "Mês 1: 100.00\n",
      "Mês 2: 440.00\n",
      "Mês 3: 0.00\n",
      "Mês 4: 140.00\n",
      "Mês 5: 220.00\n",
      "Mês 6: 110.00\n",
      "Armazenamento do mês 1: 0.00\n",
      "Armazenamento do mês 2: 190.00\n",
      "Armazenamento do mês 3: 0.00\n",
      "Armazenamento do mês 4: 0.00\n",
      "Armazenamento do mês 5: 0.00\n",
      "Armazenamento do mês 6: 0.00\n",
      "Minimizar Custos (Z): R$49980.00\n"
     ]
    }
   ],
   "source": [
    "problem = LpProblem(\"Minimizar_Custo\", LpMinimize)\n",
    "\n",
    "#variáveis de decisão\n",
    "x1 = LpVariable(\"Mês 1\",lowBound=0) \n",
    "x2 = LpVariable(\"Mês 2\",lowBound=0)\n",
    "x3 = LpVariable(\"Mês 3\",lowBound=0)\n",
    "x4 = LpVariable(\"Mês 4\",lowBound=0)\n",
    "x5 = LpVariable(\"Mês 5\",lowBound=0)\n",
    "x6 = LpVariable(\"Mês 6\",lowBound=0)\n",
    "i1 = LpVariable(\"Armazenamento do mês 1\",lowBound=0)\n",
    "i2 = LpVariable(\"Armazenamento do mês 2\",lowBound=0)\n",
    "i3 = LpVariable(\"Armazenamento do mês 3\",lowBound=0)\n",
    "i4 = LpVariable(\"Armazenamento do mês 4\",lowBound=0)\n",
    "i5 = LpVariable(\"Armazenamento do mês 5\",lowBound=0)\n",
    "i6 = LpVariable(\"Armazenamento do mês 6\",lowBound=0)\n",
    "\n",
    "#função objetiva\n",
    "problem += 50*x1 + 45*x2 + 55*x3 + 48*x4 + 52*x5 + 50*x6 + 8*(i1+i2+i3+i4+i5+i6)\n",
    "\n",
    "#restrições\n",
    "problem += x1 - i1 == 100 # variação do mes 1\n",
    "problem += i1 + x2 - i2 == 250 # variação do mes 2\n",
    "problem += i2 + x3 - i3 == 190 # variação do mes 3\n",
    "problem += i3 + x4 - i4 == 140 # variação do mes 4\n",
    "problem += i4 + x5 - i5 == 220 # variação do mes 5\n",
    "problem += i5 + x6 - i6 == 110 # variação do mes 6\n",
    "\n",
    "#solução\n",
    "problem.solve()\n",
    "\n",
    "#resultado\n",
    "if problem.status == 1:  \n",
    "    print(\"Solução encontrada!\")\n",
    "    print(f\"Mês 1: {x1.varValue:.2f}\")\n",
    "    print(f\"Mês 2: {x2.varValue:.2f}\")\n",
    "    print(f\"Mês 3: {x3.varValue:.2f}\")\n",
    "    print(f\"Mês 4: {x4.varValue:.2f}\")\n",
    "    print(f\"Mês 5: {x5.varValue:.2f}\")\n",
    "    print(f\"Mês 6: {x6.varValue:.2f}\")\n",
    "    print(f\"Armazenamento do mês 1: {i1.varValue:.2f}\")\n",
    "    print(f\"Armazenamento do mês 2: {i2.varValue:.2f}\")\n",
    "    print(f\"Armazenamento do mês 3: {i3.varValue:.2f}\")\n",
    "    print(f\"Armazenamento do mês 4: {i4.varValue:.2f}\")\n",
    "    print(f\"Armazenamento do mês 5: {i5.varValue:.2f}\")\n",
    "    print(f\"Armazenamento do mês 6: {i6.varValue:.2f}\")\n",
    "    print(f\"Minimizar Custos (Z): R${problem.objective.value():.2f}\")\n",
    "else:\n",
    "    print(\"Não foi possível encontrar uma solução.\")"
   ]
  }
 ],
 "metadata": {
  "kernelspec": {
   "display_name": "Python 3 (ipykernel)",
   "language": "python",
   "name": "python3"
  },
  "language_info": {
   "codemirror_mode": {
    "name": "ipython",
    "version": 3
   },
   "file_extension": ".py",
   "mimetype": "text/x-python",
   "name": "python",
   "nbconvert_exporter": "python",
   "pygments_lexer": "ipython3",
   "version": "3.11.7"
  }
 },
 "nbformat": 4,
 "nbformat_minor": 5
}
